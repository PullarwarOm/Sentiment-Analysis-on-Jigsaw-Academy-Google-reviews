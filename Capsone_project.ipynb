{
 "cells": [
  {
   "cell_type": "code",
   "execution_count": 19,
   "id": "1c183b46",
   "metadata": {
    "id": "1c183b46"
   },
   "outputs": [],
   "source": [
    "import pandas as pd\n",
    "import numpy as np\n",
    "import matplotlib.pyplot as plt\n",
    "import seaborn as sns\n",
    "\n",
    "plt.style.use('ggplot')\n",
    "import nltk"
   ]
  },
  {
   "cell_type": "markdown",
   "id": "c2af91e9",
   "metadata": {
    "id": "c2af91e9"
   },
   "source": [
    "# <font color = purple> Sentiment Analysis of Jigsaw Academy Google reviews\n",
    "<font color = purple>   AIM >>  Here our aim is to do sentiment analysis on Jigsaw Academy reviews given by students and to see what approch we can suggest client to further improve the performace of the academy."
   ]
  },
  {
   "cell_type": "code",
   "execution_count": 20,
   "id": "9379eb1c",
   "metadata": {
    "colab": {
     "base_uri": "https://localhost:8080/",
     "height": 206
    },
    "id": "9379eb1c",
    "outputId": "870df0d3-c6f2-4eab-83f6-35e6b9813485"
   },
   "outputs": [
    {
     "data": {
      "text/html": [
       "\n",
       "  <div id=\"df-58f84201-feb2-4f0e-9fdb-ad87b6dd82c7\">\n",
       "    <div class=\"colab-df-container\">\n",
       "      <div>\n",
       "<style scoped>\n",
       "    .dataframe tbody tr th:only-of-type {\n",
       "        vertical-align: middle;\n",
       "    }\n",
       "\n",
       "    .dataframe tbody tr th {\n",
       "        vertical-align: top;\n",
       "    }\n",
       "\n",
       "    .dataframe thead th {\n",
       "        text-align: right;\n",
       "    }\n",
       "</style>\n",
       "<table border=\"1\" class=\"dataframe\">\n",
       "  <thead>\n",
       "    <tr style=\"text-align: right;\">\n",
       "      <th></th>\n",
       "      <th>author_title</th>\n",
       "      <th>review_text</th>\n",
       "      <th>review_rating</th>\n",
       "    </tr>\n",
       "  </thead>\n",
       "  <tbody>\n",
       "    <tr>\n",
       "      <th>0</th>\n",
       "      <td>Mintu Jakhar</td>\n",
       "      <td>I usually check reviews before making the deci...</td>\n",
       "      <td>4</td>\n",
       "    </tr>\n",
       "    <tr>\n",
       "      <th>1</th>\n",
       "      <td>Shreyasi Mahurkar</td>\n",
       "      <td>I was enrolled in Integrated Program in Busine...</td>\n",
       "      <td>5</td>\n",
       "    </tr>\n",
       "    <tr>\n",
       "      <th>2</th>\n",
       "      <td>Revathy P</td>\n",
       "      <td>I did a Data Analytics program from Jigsaw, re...</td>\n",
       "      <td>5</td>\n",
       "    </tr>\n",
       "    <tr>\n",
       "      <th>3</th>\n",
       "      <td>Shaik Ahmed</td>\n",
       "      <td>I found the Business Analytics course very int...</td>\n",
       "      <td>5</td>\n",
       "    </tr>\n",
       "    <tr>\n",
       "      <th>4</th>\n",
       "      <td>Kartik Jain</td>\n",
       "      <td>Hi All,\\n\\nI've been part of the IPBA batch (B...</td>\n",
       "      <td>5</td>\n",
       "    </tr>\n",
       "  </tbody>\n",
       "</table>\n",
       "</div>\n",
       "      <button class=\"colab-df-convert\" onclick=\"convertToInteractive('df-58f84201-feb2-4f0e-9fdb-ad87b6dd82c7')\"\n",
       "              title=\"Convert this dataframe to an interactive table.\"\n",
       "              style=\"display:none;\">\n",
       "        \n",
       "  <svg xmlns=\"http://www.w3.org/2000/svg\" height=\"24px\"viewBox=\"0 0 24 24\"\n",
       "       width=\"24px\">\n",
       "    <path d=\"M0 0h24v24H0V0z\" fill=\"none\"/>\n",
       "    <path d=\"M18.56 5.44l.94 2.06.94-2.06 2.06-.94-2.06-.94-.94-2.06-.94 2.06-2.06.94zm-11 1L8.5 8.5l.94-2.06 2.06-.94-2.06-.94L8.5 2.5l-.94 2.06-2.06.94zm10 10l.94 2.06.94-2.06 2.06-.94-2.06-.94-.94-2.06-.94 2.06-2.06.94z\"/><path d=\"M17.41 7.96l-1.37-1.37c-.4-.4-.92-.59-1.43-.59-.52 0-1.04.2-1.43.59L10.3 9.45l-7.72 7.72c-.78.78-.78 2.05 0 2.83L4 21.41c.39.39.9.59 1.41.59.51 0 1.02-.2 1.41-.59l7.78-7.78 2.81-2.81c.8-.78.8-2.07 0-2.86zM5.41 20L4 18.59l7.72-7.72 1.47 1.35L5.41 20z\"/>\n",
       "  </svg>\n",
       "      </button>\n",
       "      \n",
       "  <style>\n",
       "    .colab-df-container {\n",
       "      display:flex;\n",
       "      flex-wrap:wrap;\n",
       "      gap: 12px;\n",
       "    }\n",
       "\n",
       "    .colab-df-convert {\n",
       "      background-color: #E8F0FE;\n",
       "      border: none;\n",
       "      border-radius: 50%;\n",
       "      cursor: pointer;\n",
       "      display: none;\n",
       "      fill: #1967D2;\n",
       "      height: 32px;\n",
       "      padding: 0 0 0 0;\n",
       "      width: 32px;\n",
       "    }\n",
       "\n",
       "    .colab-df-convert:hover {\n",
       "      background-color: #E2EBFA;\n",
       "      box-shadow: 0px 1px 2px rgba(60, 64, 67, 0.3), 0px 1px 3px 1px rgba(60, 64, 67, 0.15);\n",
       "      fill: #174EA6;\n",
       "    }\n",
       "\n",
       "    [theme=dark] .colab-df-convert {\n",
       "      background-color: #3B4455;\n",
       "      fill: #D2E3FC;\n",
       "    }\n",
       "\n",
       "    [theme=dark] .colab-df-convert:hover {\n",
       "      background-color: #434B5C;\n",
       "      box-shadow: 0px 1px 3px 1px rgba(0, 0, 0, 0.15);\n",
       "      filter: drop-shadow(0px 1px 2px rgba(0, 0, 0, 0.3));\n",
       "      fill: #FFFFFF;\n",
       "    }\n",
       "  </style>\n",
       "\n",
       "      <script>\n",
       "        const buttonEl =\n",
       "          document.querySelector('#df-58f84201-feb2-4f0e-9fdb-ad87b6dd82c7 button.colab-df-convert');\n",
       "        buttonEl.style.display =\n",
       "          google.colab.kernel.accessAllowed ? 'block' : 'none';\n",
       "\n",
       "        async function convertToInteractive(key) {\n",
       "          const element = document.querySelector('#df-58f84201-feb2-4f0e-9fdb-ad87b6dd82c7');\n",
       "          const dataTable =\n",
       "            await google.colab.kernel.invokeFunction('convertToInteractive',\n",
       "                                                     [key], {});\n",
       "          if (!dataTable) return;\n",
       "\n",
       "          const docLinkHtml = 'Like what you see? Visit the ' +\n",
       "            '<a target=\"_blank\" href=https://colab.research.google.com/notebooks/data_table.ipynb>data table notebook</a>'\n",
       "            + ' to learn more about interactive tables.';\n",
       "          element.innerHTML = '';\n",
       "          dataTable['output_type'] = 'display_data';\n",
       "          await google.colab.output.renderOutput(dataTable, element);\n",
       "          const docLink = document.createElement('div');\n",
       "          docLink.innerHTML = docLinkHtml;\n",
       "          element.appendChild(docLink);\n",
       "        }\n",
       "      </script>\n",
       "    </div>\n",
       "  </div>\n",
       "  "
      ],
      "text/plain": [
       "        author_title                                        review_text  \\\n",
       "0       Mintu Jakhar  I usually check reviews before making the deci...   \n",
       "1  Shreyasi Mahurkar  I was enrolled in Integrated Program in Busine...   \n",
       "2          Revathy P  I did a Data Analytics program from Jigsaw, re...   \n",
       "3        Shaik Ahmed  I found the Business Analytics course very int...   \n",
       "4        Kartik Jain  Hi All,\\n\\nI've been part of the IPBA batch (B...   \n",
       "\n",
       "   review_rating  \n",
       "0              4  \n",
       "1              5  \n",
       "2              5  \n",
       "3              5  \n",
       "4              5  "
      ]
     },
     "execution_count": 20,
     "metadata": {},
     "output_type": "execute_result"
    }
   ],
   "source": [
    "# Read in the data\n",
    "df = pd.read_csv(r'/content/Jigsawreviews.csv')\n",
    "df.head()"
   ]
  },
  {
   "cell_type": "code",
   "execution_count": 21,
   "id": "0db573e6",
   "metadata": {
    "colab": {
     "base_uri": "https://localhost:8080/"
    },
    "id": "0db573e6",
    "outputId": "b3620cb6-2748-40fe-a6f1-a21cf7cebcb2"
   },
   "outputs": [
    {
     "name": "stdout",
     "output_type": "stream",
     "text": [
      "shape of data (500, 3)\n"
     ]
    }
   ],
   "source": [
    "print('shape of data', df.shape)"
   ]
  },
  {
   "cell_type": "code",
   "execution_count": 22,
   "id": "a6a6fdbc",
   "metadata": {
    "colab": {
     "base_uri": "https://localhost:8080/"
    },
    "id": "a6a6fdbc",
    "outputId": "4d75750d-fd3c-4cf3-cdc6-37281642bdf5"
   },
   "outputs": [
    {
     "data": {
      "text/plain": [
       "author_title     0\n",
       "review_text      0\n",
       "review_rating    0\n",
       "dtype: int64"
      ]
     },
     "execution_count": 22,
     "metadata": {},
     "output_type": "execute_result"
    }
   ],
   "source": [
    "# Checking for null values\n",
    "df.isnull().sum()"
   ]
  },
  {
   "cell_type": "markdown",
   "id": "15b479ad",
   "metadata": {
    "id": "15b479ad"
   },
   "source": [
    "### <font color = brown > EDA"
   ]
  },
  {
   "cell_type": "code",
   "execution_count": 23,
   "id": "aafe3aaa",
   "metadata": {
    "colab": {
     "base_uri": "https://localhost:8080/",
     "height": 404
    },
    "id": "aafe3aaa",
    "outputId": "24c6bdbf-7a3c-45db-86b4-182a3581e4ce"
   },
   "outputs": [
    {
     "name": "stdout",
     "output_type": "stream",
     "text": [
      "Frequency of ratings\n"
     ]
    },
    {
     "data": {
      "image/png": "[encoded data removed]",
      "text/plain": [
       "<Figure size 720x432 with 1 Axes>"
      ]
     },
     "metadata": {},
     "output_type": "display_data"
    }
   ],
   "source": [
    "print('Frequency of ratings')\n",
    "plt.figure(figsize = (21, 6))\n",
    "plots = df['review_rating'].value_counts().plot(kind = 'bar');\n",
    "for bar in plots.patches:\n",
    "    plots.annotate(format(bar.get_height(), '0.0f'),\n",
    "                  (bar.get_x() + bar.get_width()/4, bar.get_height()),\n",
    "                   size = 15)\n",
    "plt.title('Frequency of ratings');"
   ]
  },
  {
   "cell_type": "markdown",
   "id": "4d8616d6",
   "metadata": {
    "id": "4d8616d6"
   },
   "source": [
    "<font color = olive>**Observation**: ***From here we can see that the people giving 5 rating is very high. And the people giving rating as 2 is the least. So we can see that the most of the people are satisfied with the academy but still some are not happy with the institute.***"
   ]
  },
  {
   "cell_type": "markdown",
   "id": "935ca698",
   "metadata": {
    "id": "935ca698"
   },
   "source": [
    "### <font color = brown > Basic NLTK"
   ]
  },
  {
   "cell_type": "code",
   "execution_count": 24,
   "id": "e014ac59",
   "metadata": {
    "colab": {
     "base_uri": "https://localhost:8080/"
    },
    "id": "e014ac59",
    "outputId": "384a5f14-2156-49fb-ddad-c2612b258848"
   },
   "outputs": [
    {
     "name": "stdout",
     "output_type": "stream",
     "text": [
      "Took Full stack data science course: I had a great experience with Jigsaw Academy as there way of teaching and making it interactive for online classes is really nice. Got to learn alot from the course and the trainers were very soft spoken and knowledgeable.\n"
     ]
    }
   ],
   "source": [
    "example = df['review_text'][12]\n",
    "print(example)"
   ]
  },
  {
   "cell_type": "code",
   "execution_count": 25,
   "id": "An9SswEUbHO4",
   "metadata": {
    "colab": {
     "base_uri": "https://localhost:8080/"
    },
    "id": "An9SswEUbHO4",
    "outputId": "5e603b2a-2352-4910-f05e-30938b1dc23a"
   },
   "outputs": [
    {
     "name": "stderr",
     "output_type": "stream",
     "text": [
      "[nltk_data] Downloading package punkt to /root/nltk_data...\n",
      "[nltk_data]   Package punkt is already up-to-date!\n"
     ]
    },
    {
     "data": {
      "text/plain": [
       "True"
      ]
     },
     "execution_count": 25,
     "metadata": {},
     "output_type": "execute_result"
    }
   ],
   "source": [
    "nltk.download('punkt')"
   ]
  },
  {
   "cell_type": "code",
   "execution_count": 26,
   "id": "ed55133a",
   "metadata": {
    "colab": {
     "base_uri": "https://localhost:8080/"
    },
    "id": "ed55133a",
    "outputId": "e2908348-a321-429a-fdf7-ccdb0e062b6b"
   },
   "outputs": [
    {
     "data": {
      "text/plain": [
       "['Took', 'Full', 'stack', 'data', 'science', 'course', ':', 'I', 'had', 'a']"
      ]
     },
     "execution_count": 26,
     "metadata": {},
     "output_type": "execute_result"
    }
   ],
   "source": [
    "# TOkenizing the \n",
    "tokens = nltk.word_tokenize(example)\n",
    "tokens[:10]"
   ]
  },
  {
   "cell_type": "code",
   "execution_count": 27,
   "id": "gOlDImVIbNxz",
   "metadata": {
    "colab": {
     "base_uri": "https://localhost:8080/"
    },
    "id": "gOlDImVIbNxz",
    "outputId": "591ef2be-6af2-4b57-d24b-0ccc6af43535"
   },
   "outputs": [
    {
     "name": "stderr",
     "output_type": "stream",
     "text": [
      "[nltk_data] Downloading package averaged_perceptron_tagger to\n",
      "[nltk_data]     /root/nltk_data...\n",
      "[nltk_data]   Package averaged_perceptron_tagger is already up-to-\n",
      "[nltk_data]       date!\n"
     ]
    },
    {
     "data": {
      "text/plain": [
       "True"
      ]
     },
     "execution_count": 27,
     "metadata": {},
     "output_type": "execute_result"
    }
   ],
   "source": [
    "nltk.download('averaged_perceptron_tagger')"
   ]
  },
  {
   "cell_type": "code",
   "execution_count": 28,
   "id": "95a2b060",
   "metadata": {
    "colab": {
     "base_uri": "https://localhost:8080/"
    },
    "id": "95a2b060",
    "outputId": "a3e8bd14-bb4f-4427-9265-ad44afd81ed7"
   },
   "outputs": [
    {
     "name": "stdout",
     "output_type": "stream",
     "text": [
      "Looking at parts of speech of tokenised words\n"
     ]
    },
    {
     "data": {
      "text/plain": [
       "[('Took', 'NNP'),\n",
       " ('Full', 'NNP'),\n",
       " ('stack', 'NN'),\n",
       " ('data', 'NNS'),\n",
       " ('science', 'NN'),\n",
       " ('course', 'NN'),\n",
       " (':', ':'),\n",
       " ('I', 'PRP'),\n",
       " ('had', 'VBD'),\n",
       " ('a', 'DT'),\n",
       " ('great', 'JJ')]"
      ]
     },
     "execution_count": 28,
     "metadata": {},
     "output_type": "execute_result"
    }
   ],
   "source": [
    "print('Looking at parts of speech of tokenised words')\n",
    "tagged = nltk.pos_tag(tokens)\n",
    "tagged[:11]"
   ]
  },
  {
   "cell_type": "code",
   "execution_count": 34,
   "id": "37Xbyg3bbUvH",
   "metadata": {
    "colab": {
     "base_uri": "https://localhost:8080/"
    },
    "id": "37Xbyg3bbUvH",
    "outputId": "ddf6e586-13e5-4f29-c01a-77a211f1d05a"
   },
   "outputs": [
    {
     "name": "stderr",
     "output_type": "stream",
     "text": [
      "[nltk_data] Downloading package maxent_ne_chunker to\n",
      "[nltk_data]     /root/nltk_data...\n",
      "[nltk_data]   Package maxent_ne_chunker is already up-to-date!\n",
      "[nltk_data] Downloading package words to /root/nltk_data...\n",
      "[nltk_data]   Package words is already up-to-date!\n",
      "[nltk_data] Downloading package words to /root/nltk_data...\n",
      "[nltk_data]   Package words is already up-to-date!\n"
     ]
    },
    {
     "data": {
      "text/plain": [
       "True"
      ]
     },
     "execution_count": 34,
     "metadata": {},
     "output_type": "execute_result"
    }
   ],
   "source": [
    "nltk.download('maxent_ne_chunker')\n",
    "nltk.download('words')\n",
    "nltk.download('words')"
   ]
  },
  {
   "cell_type": "code",
   "execution_count": 35,
   "id": "8390347a",
   "metadata": {
    "colab": {
     "base_uri": "https://localhost:8080/"
    },
    "id": "8390347a",
    "outputId": "61f50784-034d-4f6b-aa02-601e9e674d16"
   },
   "outputs": [
    {
     "name": "stdout",
     "output_type": "stream",
     "text": [
      "(S\n",
      "  (PERSON Took/NNP)\n",
      "  (ORGANIZATION Full/NNP)\n",
      "  stack/NN\n",
      "  data/NNS\n",
      "  science/NN\n",
      "  course/NN\n",
      "  :/:\n",
      "  I/PRP\n",
      "  had/VBD\n",
      "  a/DT\n",
      "  great/JJ\n",
      "  experience/NN\n",
      "  with/IN\n",
      "  (PERSON Jigsaw/NNP Academy/NNP)\n",
      "  as/IN\n",
      "  there/EX\n",
      "  way/NN\n",
      "  of/IN\n",
      "  teaching/NN\n",
      "  and/CC\n",
      "  making/VBG\n",
      "  it/PRP\n",
      "  interactive/JJ\n",
      "  for/IN\n",
      "  online/JJ\n",
      "  classes/NNS\n",
      "  is/VBZ\n",
      "  really/RB\n",
      "  nice/JJ\n",
      "  ./.\n",
      "  (PERSON Got/NNP)\n",
      "  to/TO\n",
      "  learn/VB\n",
      "  alot/NN\n",
      "  from/IN\n",
      "  the/DT\n",
      "  course/NN\n",
      "  and/CC\n",
      "  the/DT\n",
      "  trainers/NNS\n",
      "  were/VBD\n",
      "  very/RB\n",
      "  soft/JJ\n",
      "  spoken/NNS\n",
      "  and/CC\n",
      "  knowledgeable/JJ\n",
      "  ./.)\n"
     ]
    }
   ],
   "source": [
    "entities = nltk.chunk.ne_chunk(tagged)\n",
    "entities.pprint()"
   ]
  },
  {
   "cell_type": "markdown",
   "id": "e6f41ad3",
   "metadata": {
    "id": "e6f41ad3"
   },
   "source": [
    "<font color = black > Basic NLTK   We will use NLTK's to get neg/ neutral/ positive scores form the text.\n",
    "- <font color = black > **This used \"bag of words\" approach:**\n",
    "    1. Stop words are removed \n",
    "    2. Each word is scored and combined to a total score.\n",
    "\n",
    "<font color = olive > Note: It is not the robust approach we shall later apply another approach."
   ]
  },
  {
   "cell_type": "code",
   "execution_count": 39,
   "id": "r3YU-_HybjDp",
   "metadata": {
    "colab": {
     "base_uri": "https://localhost:8080/"
    },
    "id": "r3YU-_HybjDp",
    "outputId": "3ada7475-38b0-4c9b-e556-b48955ad9dfd"
   },
   "outputs": [
    {
     "name": "stderr",
     "output_type": "stream",
     "text": [
      "[nltk_data] Downloading package vader_lexicon to /root/nltk_data...\n",
      "[nltk_data]   Package vader_lexicon is already up-to-date!\n"
     ]
    },
    {
     "data": {
      "text/plain": [
       "True"
      ]
     },
     "execution_count": 39,
     "metadata": {},
     "output_type": "execute_result"
    }
   ],
   "source": [
    "nltk.download('vader_lexicon')"
   ]
  },
  {
   "cell_type": "code",
   "execution_count": 40,
   "id": "87a22c77",
   "metadata": {
    "id": "87a22c77"
   },
   "outputs": [],
   "source": [
    "from nltk.sentiment import SentimentIntensityAnalyzer\n",
    "from tqdm.notebook import tqdm"
   ]
  },
  {
   "cell_type": "code",
   "execution_count": 41,
   "id": "db3ac5d4",
   "metadata": {
    "id": "db3ac5d4"
   },
   "outputs": [],
   "source": [
    "sia = SentimentIntensityAnalyzer()"
   ]
  },
  {
   "cell_type": "code",
   "execution_count": 42,
   "id": "eebb872b",
   "metadata": {
    "colab": {
     "base_uri": "https://localhost:8080/"
    },
    "id": "eebb872b",
    "outputId": "d6d051b9-289e-4155-bb06-d3508ee92c48"
   },
   "outputs": [
    {
     "data": {
      "text/plain": [
       "{'compound': 0.6115, 'neg': 0.0, 'neu': 0.334, 'pos': 0.666}"
      ]
     },
     "execution_count": 42,
     "metadata": {},
     "output_type": "execute_result"
    }
   ],
   "source": [
    "# Lets see an example of how it works.\n",
    "sia.polarity_scores('I am very happy.')"
   ]
  },
  {
   "cell_type": "code",
   "execution_count": 43,
   "id": "5f3f0eff",
   "metadata": {
    "colab": {
     "base_uri": "https://localhost:8080/"
    },
    "id": "5f3f0eff",
    "outputId": "4d448f12-8d34-4c61-f441-19ae161e9877"
   },
   "outputs": [
    {
     "data": {
      "text/plain": [
       "{'compound': -0.6249, 'neg': 0.506, 'neu': 0.494, 'pos': 0.0}"
      ]
     },
     "execution_count": 43,
     "metadata": {},
     "output_type": "execute_result"
    }
   ],
   "source": [
    "# Lets take a negative text.\n",
    "sia.polarity_scores('This is worst of all.')"
   ]
  },
  {
   "cell_type": "markdown",
   "id": "e5258a5f",
   "metadata": {
    "id": "e5258a5f"
   },
   "source": [
    "<font color = brown>**Lets apply it to our actual review from the text data.**"
   ]
  },
  {
   "cell_type": "code",
   "execution_count": 44,
   "id": "bdec93ce",
   "metadata": {
    "colab": {
     "base_uri": "https://localhost:8080/"
    },
    "id": "bdec93ce",
    "outputId": "122d9d31-7ef7-4291-9b35-1cd839e49c22"
   },
   "outputs": [
    {
     "name": "stdout",
     "output_type": "stream",
     "text": [
      "Took Full stack data science course: I had a great experience with Jigsaw Academy as there way of teaching and making it interactive for online classes is really nice. Got to learn alot from the course and the trainers were very soft spoken and knowledgeable.\n"
     ]
    },
    {
     "data": {
      "text/plain": [
       "{'compound': 0.8016, 'neg': 0.0, 'neu': 0.851, 'pos': 0.149}"
      ]
     },
     "execution_count": 44,
     "metadata": {},
     "output_type": "execute_result"
    }
   ],
   "source": [
    "# Lets apply this to our actual review and see the result\n",
    "print(example)\n",
    "sia.polarity_scores(example)"
   ]
  },
  {
   "cell_type": "markdown",
   "id": "046fcf58",
   "metadata": {
    "id": "046fcf58"
   },
   "source": [
    "<font color = olive>**Observation**: ***So we can see that the compund score of the review is 0.8 which is a positive sentiment. And by reading the review also we can see that the student is accually happy from the academy.***"
   ]
  },
  {
   "cell_type": "markdown",
   "id": "0f934f11",
   "metadata": {
    "id": "0f934f11"
   },
   "source": [
    "### <font color = maroon > Applying it to all the reviews."
   ]
  },
  {
   "cell_type": "code",
   "execution_count": 45,
   "id": "68e1a7d8",
   "metadata": {
    "colab": {
     "base_uri": "https://localhost:8080/",
     "height": 206
    },
    "id": "68e1a7d8",
    "outputId": "2120a438-2841-43fa-fa89-7ee4dacced56"
   },
   "outputs": [
    {
     "data": {
      "text/html": [
       "\n",
       "  <div id=\"df-9582d2b6-f8bb-4331-afd9-d64e39c1f404\">\n",
       "    <div class=\"colab-df-container\">\n",
       "      <div>\n",
       "<style scoped>\n",
       "    .dataframe tbody tr th:only-of-type {\n",
       "        vertical-align: middle;\n",
       "    }\n",
       "\n",
       "    .dataframe tbody tr th {\n",
       "        vertical-align: top;\n",
       "    }\n",
       "\n",
       "    .dataframe thead th {\n",
       "        text-align: right;\n",
       "    }\n",
       "</style>\n",
       "<table border=\"1\" class=\"dataframe\">\n",
       "  <thead>\n",
       "    <tr style=\"text-align: right;\">\n",
       "      <th></th>\n",
       "      <th>author_title</th>\n",
       "      <th>review_text</th>\n",
       "      <th>review_rating</th>\n",
       "      <th>VADER Polarity</th>\n",
       "    </tr>\n",
       "  </thead>\n",
       "  <tbody>\n",
       "    <tr>\n",
       "      <th>0</th>\n",
       "      <td>Mintu Jakhar</td>\n",
       "      <td>I usually check reviews before making the deci...</td>\n",
       "      <td>4</td>\n",
       "      <td>0.9871</td>\n",
       "    </tr>\n",
       "    <tr>\n",
       "      <th>1</th>\n",
       "      <td>Shreyasi Mahurkar</td>\n",
       "      <td>I was enrolled in Integrated Program in Busine...</td>\n",
       "      <td>5</td>\n",
       "      <td>0.9851</td>\n",
       "    </tr>\n",
       "    <tr>\n",
       "      <th>2</th>\n",
       "      <td>Revathy P</td>\n",
       "      <td>I did a Data Analytics program from Jigsaw, re...</td>\n",
       "      <td>5</td>\n",
       "      <td>0.9272</td>\n",
       "    </tr>\n",
       "    <tr>\n",
       "      <th>3</th>\n",
       "      <td>Shaik Ahmed</td>\n",
       "      <td>I found the Business Analytics course very int...</td>\n",
       "      <td>5</td>\n",
       "      <td>0.9500</td>\n",
       "    </tr>\n",
       "    <tr>\n",
       "      <th>4</th>\n",
       "      <td>Kartik Jain</td>\n",
       "      <td>Hi All,\\n\\nI've been part of the IPBA batch (B...</td>\n",
       "      <td>5</td>\n",
       "      <td>0.9819</td>\n",
       "    </tr>\n",
       "  </tbody>\n",
       "</table>\n",
       "</div>\n",
       "      <button class=\"colab-df-convert\" onclick=\"convertToInteractive('df-9582d2b6-f8bb-4331-afd9-d64e39c1f404')\"\n",
       "              title=\"Convert this dataframe to an interactive table.\"\n",
       "              style=\"display:none;\">\n",
       "        \n",
       "  <svg xmlns=\"http://www.w3.org/2000/svg\" height=\"24px\"viewBox=\"0 0 24 24\"\n",
       "       width=\"24px\">\n",
       "    <path d=\"M0 0h24v24H0V0z\" fill=\"none\"/>\n",
       "    <path d=\"M18.56 5.44l.94 2.06.94-2.06 2.06-.94-2.06-.94-.94-2.06-.94 2.06-2.06.94zm-11 1L8.5 8.5l.94-2.06 2.06-.94-2.06-.94L8.5 2.5l-.94 2.06-2.06.94zm10 10l.94 2.06.94-2.06 2.06-.94-2.06-.94-.94-2.06-.94 2.06-2.06.94z\"/><path d=\"M17.41 7.96l-1.37-1.37c-.4-.4-.92-.59-1.43-.59-.52 0-1.04.2-1.43.59L10.3 9.45l-7.72 7.72c-.78.78-.78 2.05 0 2.83L4 21.41c.39.39.9.59 1.41.59.51 0 1.02-.2 1.41-.59l7.78-7.78 2.81-2.81c.8-.78.8-2.07 0-2.86zM5.41 20L4 18.59l7.72-7.72 1.47 1.35L5.41 20z\"/>\n",
       "  </svg>\n",
       "      </button>\n",
       "      \n",
       "  <style>\n",
       "    .colab-df-container {\n",
       "      display:flex;\n",
       "      flex-wrap:wrap;\n",
       "      gap: 12px;\n",
       "    }\n",
       "\n",
       "    .colab-df-convert {\n",
       "      background-color: #E8F0FE;\n",
       "      border: none;\n",
       "      border-radius: 50%;\n",
       "      cursor: pointer;\n",
       "      display: none;\n",
       "      fill: #1967D2;\n",
       "      height: 32px;\n",
       "      padding: 0 0 0 0;\n",
       "      width: 32px;\n",
       "    }\n",
       "\n",
       "    .colab-df-convert:hover {\n",
       "      background-color: #E2EBFA;\n",
       "      box-shadow: 0px 1px 2px rgba(60, 64, 67, 0.3), 0px 1px 3px 1px rgba(60, 64, 67, 0.15);\n",
       "      fill: #174EA6;\n",
       "    }\n",
       "\n",
       "    [theme=dark] .colab-df-convert {\n",
       "      background-color: #3B4455;\n",
       "      fill: #D2E3FC;\n",
       "    }\n",
       "\n",
       "    [theme=dark] .colab-df-convert:hover {\n",
       "      background-color: #434B5C;\n",
       "      box-shadow: 0px 1px 3px 1px rgba(0, 0, 0, 0.15);\n",
       "      filter: drop-shadow(0px 1px 2px rgba(0, 0, 0, 0.3));\n",
       "      fill: #FFFFFF;\n",
       "    }\n",
       "  </style>\n",
       "\n",
       "      <script>\n",
       "        const buttonEl =\n",
       "          document.querySelector('#df-9582d2b6-f8bb-4331-afd9-d64e39c1f404 button.colab-df-convert');\n",
       "        buttonEl.style.display =\n",
       "          google.colab.kernel.accessAllowed ? 'block' : 'none';\n",
       "\n",
       "        async function convertToInteractive(key) {\n",
       "          const element = document.querySelector('#df-9582d2b6-f8bb-4331-afd9-d64e39c1f404');\n",
       "          const dataTable =\n",
       "            await google.colab.kernel.invokeFunction('convertToInteractive',\n",
       "                                                     [key], {});\n",
       "          if (!dataTable) return;\n",
       "\n",
       "          const docLinkHtml = 'Like what you see? Visit the ' +\n",
       "            '<a target=\"_blank\" href=https://colab.research.google.com/notebooks/data_table.ipynb>data table notebook</a>'\n",
       "            + ' to learn more about interactive tables.';\n",
       "          element.innerHTML = '';\n",
       "          dataTable['output_type'] = 'display_data';\n",
       "          await google.colab.output.renderOutput(dataTable, element);\n",
       "          const docLink = document.createElement('div');\n",
       "          docLink.innerHTML = docLinkHtml;\n",
       "          element.appendChild(docLink);\n",
       "        }\n",
       "      </script>\n",
       "    </div>\n",
       "  </div>\n",
       "  "
      ],
      "text/plain": [
       "        author_title                                        review_text  \\\n",
       "0       Mintu Jakhar  I usually check reviews before making the deci...   \n",
       "1  Shreyasi Mahurkar  I was enrolled in Integrated Program in Busine...   \n",
       "2          Revathy P  I did a Data Analytics program from Jigsaw, re...   \n",
       "3        Shaik Ahmed  I found the Business Analytics course very int...   \n",
       "4        Kartik Jain  Hi All,\\n\\nI've been part of the IPBA batch (B...   \n",
       "\n",
       "   review_rating  VADER Polarity  \n",
       "0              4          0.9871  \n",
       "1              5          0.9851  \n",
       "2              5          0.9272  \n",
       "3              5          0.9500  \n",
       "4              5          0.9819  "
      ]
     },
     "execution_count": 45,
     "metadata": {},
     "output_type": "execute_result"
    }
   ],
   "source": [
    "# Applying this to all the riveuws\n",
    "df1 = df.copy()\n",
    "\n",
    "df1['VADER Polarity'] = df1['review_text'].apply(lambda x: sia.polarity_scores(x)['compound'])\n",
    "df1.head()"
   ]
  },
  {
   "cell_type": "code",
   "execution_count": 46,
   "id": "f1bbd44e",
   "metadata": {
    "colab": {
     "base_uri": "https://localhost:8080/",
     "height": 206
    },
    "id": "f1bbd44e",
    "outputId": "4cc0b1b1-0815-4855-d788-71f03f90fb49"
   },
   "outputs": [
    {
     "data": {
      "text/html": [
       "\n",
       "  <div id=\"df-c667980a-027b-4342-b21d-6af08e200598\">\n",
       "    <div class=\"colab-df-container\">\n",
       "      <div>\n",
       "<style scoped>\n",
       "    .dataframe tbody tr th:only-of-type {\n",
       "        vertical-align: middle;\n",
       "    }\n",
       "\n",
       "    .dataframe tbody tr th {\n",
       "        vertical-align: top;\n",
       "    }\n",
       "\n",
       "    .dataframe thead th {\n",
       "        text-align: right;\n",
       "    }\n",
       "</style>\n",
       "<table border=\"1\" class=\"dataframe\">\n",
       "  <thead>\n",
       "    <tr style=\"text-align: right;\">\n",
       "      <th></th>\n",
       "      <th>author_title</th>\n",
       "      <th>review_text</th>\n",
       "      <th>review_rating</th>\n",
       "      <th>VADER Polarity</th>\n",
       "    </tr>\n",
       "  </thead>\n",
       "  <tbody>\n",
       "    <tr>\n",
       "      <th>495</th>\n",
       "      <td>Anshuman Sharma</td>\n",
       "      <td>The overall experience was good and satisfacto...</td>\n",
       "      <td>4</td>\n",
       "      <td>0.8402</td>\n",
       "    </tr>\n",
       "    <tr>\n",
       "      <th>496</th>\n",
       "      <td>Tunku Basu Majumdar</td>\n",
       "      <td>I would like to know about the process of how ...</td>\n",
       "      <td>3</td>\n",
       "      <td>0.5719</td>\n",
       "    </tr>\n",
       "    <tr>\n",
       "      <th>497</th>\n",
       "      <td>Rama Krishna</td>\n",
       "      <td>Good place for the beginners in data science. ...</td>\n",
       "      <td>4</td>\n",
       "      <td>0.6808</td>\n",
       "    </tr>\n",
       "    <tr>\n",
       "      <th>498</th>\n",
       "      <td>Bhamidipati Lakshminarayana</td>\n",
       "      <td>Not good for experienced people. Placement ass...</td>\n",
       "      <td>2</td>\n",
       "      <td>-0.3412</td>\n",
       "    </tr>\n",
       "    <tr>\n",
       "      <th>499</th>\n",
       "      <td>Mukesh Gupta</td>\n",
       "      <td>\"Excellent Experience and service.\" It has bee...</td>\n",
       "      <td>5</td>\n",
       "      <td>0.8126</td>\n",
       "    </tr>\n",
       "  </tbody>\n",
       "</table>\n",
       "</div>\n",
       "      <button class=\"colab-df-convert\" onclick=\"convertToInteractive('df-c667980a-027b-4342-b21d-6af08e200598')\"\n",
       "              title=\"Convert this dataframe to an interactive table.\"\n",
       "              style=\"display:none;\">\n",
       "        \n",
       "  <svg xmlns=\"http://www.w3.org/2000/svg\" height=\"24px\"viewBox=\"0 0 24 24\"\n",
       "       width=\"24px\">\n",
       "    <path d=\"M0 0h24v24H0V0z\" fill=\"none\"/>\n",
       "    <path d=\"M18.56 5.44l.94 2.06.94-2.06 2.06-.94-2.06-.94-.94-2.06-.94 2.06-2.06.94zm-11 1L8.5 8.5l.94-2.06 2.06-.94-2.06-.94L8.5 2.5l-.94 2.06-2.06.94zm10 10l.94 2.06.94-2.06 2.06-.94-2.06-.94-.94-2.06-.94 2.06-2.06.94z\"/><path d=\"M17.41 7.96l-1.37-1.37c-.4-.4-.92-.59-1.43-.59-.52 0-1.04.2-1.43.59L10.3 9.45l-7.72 7.72c-.78.78-.78 2.05 0 2.83L4 21.41c.39.39.9.59 1.41.59.51 0 1.02-.2 1.41-.59l7.78-7.78 2.81-2.81c.8-.78.8-2.07 0-2.86zM5.41 20L4 18.59l7.72-7.72 1.47 1.35L5.41 20z\"/>\n",
       "  </svg>\n",
       "      </button>\n",
       "      \n",
       "  <style>\n",
       "    .colab-df-container {\n",
       "      display:flex;\n",
       "      flex-wrap:wrap;\n",
       "      gap: 12px;\n",
       "    }\n",
       "\n",
       "    .colab-df-convert {\n",
       "      background-color: #E8F0FE;\n",
       "      border: none;\n",
       "      border-radius: 50%;\n",
       "      cursor: pointer;\n",
       "      display: none;\n",
       "      fill: #1967D2;\n",
       "      height: 32px;\n",
       "      padding: 0 0 0 0;\n",
       "      width: 32px;\n",
       "    }\n",
       "\n",
       "    .colab-df-convert:hover {\n",
       "      background-color: #E2EBFA;\n",
       "      box-shadow: 0px 1px 2px rgba(60, 64, 67, 0.3), 0px 1px 3px 1px rgba(60, 64, 67, 0.15);\n",
       "      fill: #174EA6;\n",
       "    }\n",
       "\n",
       "    [theme=dark] .colab-df-convert {\n",
       "      background-color: #3B4455;\n",
       "      fill: #D2E3FC;\n",
       "    }\n",
       "\n",
       "    [theme=dark] .colab-df-convert:hover {\n",
       "      background-color: #434B5C;\n",
       "      box-shadow: 0px 1px 3px 1px rgba(0, 0, 0, 0.15);\n",
       "      filter: drop-shadow(0px 1px 2px rgba(0, 0, 0, 0.3));\n",
       "      fill: #FFFFFF;\n",
       "    }\n",
       "  </style>\n",
       "\n",
       "      <script>\n",
       "        const buttonEl =\n",
       "          document.querySelector('#df-c667980a-027b-4342-b21d-6af08e200598 button.colab-df-convert');\n",
       "        buttonEl.style.display =\n",
       "          google.colab.kernel.accessAllowed ? 'block' : 'none';\n",
       "\n",
       "        async function convertToInteractive(key) {\n",
       "          const element = document.querySelector('#df-c667980a-027b-4342-b21d-6af08e200598');\n",
       "          const dataTable =\n",
       "            await google.colab.kernel.invokeFunction('convertToInteractive',\n",
       "                                                     [key], {});\n",
       "          if (!dataTable) return;\n",
       "\n",
       "          const docLinkHtml = 'Like what you see? Visit the ' +\n",
       "            '<a target=\"_blank\" href=https://colab.research.google.com/notebooks/data_table.ipynb>data table notebook</a>'\n",
       "            + ' to learn more about interactive tables.';\n",
       "          element.innerHTML = '';\n",
       "          dataTable['output_type'] = 'display_data';\n",
       "          await google.colab.output.renderOutput(dataTable, element);\n",
       "          const docLink = document.createElement('div');\n",
       "          docLink.innerHTML = docLinkHtml;\n",
       "          element.appendChild(docLink);\n",
       "        }\n",
       "      </script>\n",
       "    </div>\n",
       "  </div>\n",
       "  "
      ],
      "text/plain": [
       "                    author_title  \\\n",
       "495              Anshuman Sharma   \n",
       "496          Tunku Basu Majumdar   \n",
       "497                 Rama Krishna   \n",
       "498  Bhamidipati Lakshminarayana   \n",
       "499                 Mukesh Gupta   \n",
       "\n",
       "                                           review_text  review_rating  \\\n",
       "495  The overall experience was good and satisfacto...              4   \n",
       "496  I would like to know about the process of how ...              3   \n",
       "497  Good place for the beginners in data science. ...              4   \n",
       "498  Not good for experienced people. Placement ass...              2   \n",
       "499  \"Excellent Experience and service.\" It has bee...              5   \n",
       "\n",
       "     VADER Polarity  \n",
       "495          0.8402  \n",
       "496          0.5719  \n",
       "497          0.6808  \n",
       "498         -0.3412  \n",
       "499          0.8126  "
      ]
     },
     "execution_count": 46,
     "metadata": {},
     "output_type": "execute_result"
    }
   ],
   "source": [
    "df1.tail()"
   ]
  },
  {
   "cell_type": "markdown",
   "id": "9daca21b",
   "metadata": {
    "id": "9daca21b"
   },
   "source": [
    "<font color = olive>**Observation**: ***So we can see that results that we are getting with the Cader polarity is good and accurate.***"
   ]
  },
  {
   "cell_type": "markdown",
   "id": "a76c2af1",
   "metadata": {
    "id": "a76c2af1"
   },
   "source": [
    "<font color = brown>***Lets visualize how the compound score is with respect to ratings.***"
   ]
  },
  {
   "cell_type": "code",
   "execution_count": 47,
   "id": "f1eceb77",
   "metadata": {
    "colab": {
     "base_uri": "https://localhost:8080/",
     "height": 425
    },
    "id": "f1eceb77",
    "outputId": "b78cc85f-aa23-4a47-a055-40f31483d388"
   },
   "outputs": [
    {
     "data": {
      "text/plain": [
       "Text(0.5, 1.0, 'Vader polarity score vs rating')"
      ]
     },
     "execution_count": 47,
     "metadata": {},
     "output_type": "execute_result"
    },
    {
     "data": {
      "image/png": "[encoded data removed]",
      "text/plain": [
       "<Figure size 792x432 with 1 Axes>"
      ]
     },
     "metadata": {},
     "output_type": "display_data"
    }
   ],
   "source": [
    "plt.figure(figsize = (11, 6))\n",
    "ax = sns.barplot(data = df1, x = df1['review_rating'], y = df1['VADER Polarity'])\n",
    "plt.title('Vader polarity score vs rating')"
   ]
  },
  {
   "cell_type": "markdown",
   "id": "07fda026",
   "metadata": {
    "id": "07fda026"
   },
   "source": [
    "<font color = olive>**Observation**: *So we can see for rating less than three the VADER Polarity score is also very less. As these are negative review. So we can say that VAder is performaing quite good. Now lets see the evaluation of model.*"
   ]
  },
  {
   "cell_type": "markdown",
   "id": "82dcaafe",
   "metadata": {
    "id": "82dcaafe"
   },
   "source": [
    "### <font color = maroon > Evaluation of Vader"
   ]
  },
  {
   "cell_type": "code",
   "execution_count": 48,
   "id": "f7e9a3c4",
   "metadata": {
    "id": "f7e9a3c4"
   },
   "outputs": [],
   "source": [
    "## Substituting Polarity score of greater than 0.4 with 1 which will represnt it is positive score.\n",
    "# And substiting Polarity score less than 0.4 with 0 with will represnts negative score.\n",
    "\n",
    "pred = np.where(df1['VADER Polarity']> 0.4, 1, 0)\n",
    "df1['predicted sentiment'] = pred"
   ]
  },
  {
   "cell_type": "code",
   "execution_count": 49,
   "id": "19b59717",
   "metadata": {
    "id": "19b59717"
   },
   "outputs": [],
   "source": [
    "# Substituting rating above 2 as 1 which will repreenst positive review.\n",
    "# Substituting rating below 3 as 0 which will represnts negative review.\n",
    "actual = np.where(df1['review_rating']>2, 1, 0)\n",
    "df1['actual sentiment'] = actual"
   ]
  },
  {
   "cell_type": "code",
   "execution_count": 50,
   "id": "c934f2fd",
   "metadata": {
    "colab": {
     "base_uri": "https://localhost:8080/"
    },
    "id": "c934f2fd",
    "outputId": "b0c3cfb2-735b-44cc-90ff-4f0d1f3f3ed3"
   },
   "outputs": [
    {
     "name": "stdout",
     "output_type": "stream",
     "text": [
      "              precision    recall  f1-score   support\n",
      "\n",
      "           0       0.69      0.63      0.66        38\n",
      "           1       0.97      0.98      0.97       462\n",
      "\n",
      "    accuracy                           0.95       500\n",
      "   macro avg       0.83      0.80      0.82       500\n",
      "weighted avg       0.95      0.95      0.95       500\n",
      "\n"
     ]
    }
   ],
   "source": [
    "from sklearn.metrics import classification_report\n",
    "print(classification_report(actual, pred))"
   ]
  },
  {
   "cell_type": "code",
   "execution_count": 51,
   "id": "1f6ed53b",
   "metadata": {
    "colab": {
     "base_uri": "https://localhost:8080/",
     "height": 1000
    },
    "id": "1f6ed53b",
    "outputId": "78375029-065b-496c-839b-7827ad2e15cc"
   },
   "outputs": [
    {
     "data": {
      "text/html": [
       "\n",
       "  <div id=\"df-963a4940-0f33-4740-aa51-d0df18e8359f\">\n",
       "    <div class=\"colab-df-container\">\n",
       "      <div>\n",
       "<style scoped>\n",
       "    .dataframe tbody tr th:only-of-type {\n",
       "        vertical-align: middle;\n",
       "    }\n",
       "\n",
       "    .dataframe tbody tr th {\n",
       "        vertical-align: top;\n",
       "    }\n",
       "\n",
       "    .dataframe thead th {\n",
       "        text-align: right;\n",
       "    }\n",
       "</style>\n",
       "<table border=\"1\" class=\"dataframe\">\n",
       "  <thead>\n",
       "    <tr style=\"text-align: right;\">\n",
       "      <th></th>\n",
       "      <th>author_title</th>\n",
       "      <th>review_text</th>\n",
       "      <th>review_rating</th>\n",
       "      <th>VADER Polarity</th>\n",
       "      <th>predicted sentiment</th>\n",
       "      <th>actual sentiment</th>\n",
       "    </tr>\n",
       "  </thead>\n",
       "  <tbody>\n",
       "    <tr>\n",
       "      <th>28</th>\n",
       "      <td>Karthik Sriram</td>\n",
       "      <td>Big Looters . Poor quality training. I joined ...</td>\n",
       "      <td>1</td>\n",
       "      <td>0.6714</td>\n",
       "      <td>1</td>\n",
       "      <td>0</td>\n",
       "    </tr>\n",
       "    <tr>\n",
       "      <th>63</th>\n",
       "      <td>GUNASEKARAN Kuppayee Sengodan</td>\n",
       "      <td>First time enrolled into the Course. With the ...</td>\n",
       "      <td>2</td>\n",
       "      <td>0.9026</td>\n",
       "      <td>1</td>\n",
       "      <td>0</td>\n",
       "    </tr>\n",
       "    <tr>\n",
       "      <th>72</th>\n",
       "      <td>sathvik kullolli</td>\n",
       "      <td>Surely not worth the money.Go for some other i...</td>\n",
       "      <td>1</td>\n",
       "      <td>0.9048</td>\n",
       "      <td>1</td>\n",
       "      <td>0</td>\n",
       "    </tr>\n",
       "    <tr>\n",
       "      <th>82</th>\n",
       "      <td>Ketan Chaudhari</td>\n",
       "      <td>Bad experience with online training. After som...</td>\n",
       "      <td>1</td>\n",
       "      <td>0.8953</td>\n",
       "      <td>1</td>\n",
       "      <td>0</td>\n",
       "    </tr>\n",
       "    <tr>\n",
       "      <th>138</th>\n",
       "      <td>Snigdha Shukla</td>\n",
       "      <td>Course content of good..but as far as placemen...</td>\n",
       "      <td>2</td>\n",
       "      <td>-0.4028</td>\n",
       "      <td>0</td>\n",
       "      <td>0</td>\n",
       "    </tr>\n",
       "    <tr>\n",
       "      <th>147</th>\n",
       "      <td>Balakrishna G</td>\n",
       "      <td>I don't find really worth doing it in Jigsaw, ...</td>\n",
       "      <td>1</td>\n",
       "      <td>0.1636</td>\n",
       "      <td>0</td>\n",
       "      <td>0</td>\n",
       "    </tr>\n",
       "    <tr>\n",
       "      <th>211</th>\n",
       "      <td>Priya P</td>\n",
       "      <td>My recent experience with Jigsaw has me comple...</td>\n",
       "      <td>1</td>\n",
       "      <td>-0.6724</td>\n",
       "      <td>0</td>\n",
       "      <td>0</td>\n",
       "    </tr>\n",
       "    <tr>\n",
       "      <th>268</th>\n",
       "      <td>Chirag Suthar</td>\n",
       "      <td>Very poor service,along with me and my friends...</td>\n",
       "      <td>1</td>\n",
       "      <td>0.6429</td>\n",
       "      <td>1</td>\n",
       "      <td>0</td>\n",
       "    </tr>\n",
       "    <tr>\n",
       "      <th>289</th>\n",
       "      <td>saikumar rachamalla</td>\n",
       "      <td>Hi, please give your sincere feedback regardin...</td>\n",
       "      <td>1</td>\n",
       "      <td>0.9556</td>\n",
       "      <td>1</td>\n",
       "      <td>0</td>\n",
       "    </tr>\n",
       "    <tr>\n",
       "      <th>291</th>\n",
       "      <td>Ravindra Singh Suri</td>\n",
       "      <td>I am  a student of Jigsaw, Jig15051 is my ID.\\...</td>\n",
       "      <td>1</td>\n",
       "      <td>0.9473</td>\n",
       "      <td>1</td>\n",
       "      <td>0</td>\n",
       "    </tr>\n",
       "    <tr>\n",
       "      <th>312</th>\n",
       "      <td>JERIL JOSEPH</td>\n",
       "      <td>I wouldn't suggest jigsaw, infact i don't thin...</td>\n",
       "      <td>1</td>\n",
       "      <td>0.8087</td>\n",
       "      <td>1</td>\n",
       "      <td>0</td>\n",
       "    </tr>\n",
       "    <tr>\n",
       "      <th>323</th>\n",
       "      <td>Vivek Yadu</td>\n",
       "      <td>I have worst experience enrolling my self one ...</td>\n",
       "      <td>1</td>\n",
       "      <td>-0.8540</td>\n",
       "      <td>0</td>\n",
       "      <td>0</td>\n",
       "    </tr>\n",
       "    <tr>\n",
       "      <th>325</th>\n",
       "      <td>Ashish Anand</td>\n",
       "      <td>Worst education providers . Don't waste your m...</td>\n",
       "      <td>1</td>\n",
       "      <td>-0.3025</td>\n",
       "      <td>0</td>\n",
       "      <td>0</td>\n",
       "    </tr>\n",
       "    <tr>\n",
       "      <th>328</th>\n",
       "      <td>Lohith Loki</td>\n",
       "      <td>They are just another greedy institute, won't ...</td>\n",
       "      <td>1</td>\n",
       "      <td>0.9771</td>\n",
       "      <td>1</td>\n",
       "      <td>0</td>\n",
       "    </tr>\n",
       "    <tr>\n",
       "      <th>342</th>\n",
       "      <td>Anit Antonito</td>\n",
       "      <td>Really expensive and courses are not worth of ...</td>\n",
       "      <td>1</td>\n",
       "      <td>-0.6971</td>\n",
       "      <td>0</td>\n",
       "      <td>0</td>\n",
       "    </tr>\n",
       "    <tr>\n",
       "      <th>354</th>\n",
       "      <td>Avishek Adhikary</td>\n",
       "      <td>My jigsaw id is Jig14258.......\\n\\nThis is ver...</td>\n",
       "      <td>1</td>\n",
       "      <td>0.1163</td>\n",
       "      <td>0</td>\n",
       "      <td>0</td>\n",
       "    </tr>\n",
       "    <tr>\n",
       "      <th>356</th>\n",
       "      <td>PRATIK KUMAR</td>\n",
       "      <td>These people are totally fake and all the comm...</td>\n",
       "      <td>1</td>\n",
       "      <td>0.8539</td>\n",
       "      <td>1</td>\n",
       "      <td>0</td>\n",
       "    </tr>\n",
       "    <tr>\n",
       "      <th>362</th>\n",
       "      <td>saikat roy</td>\n",
       "      <td>this institute only good for study not good fo...</td>\n",
       "      <td>1</td>\n",
       "      <td>0.2023</td>\n",
       "      <td>0</td>\n",
       "      <td>0</td>\n",
       "    </tr>\n",
       "    <tr>\n",
       "      <th>364</th>\n",
       "      <td>Jaspreet singh</td>\n",
       "      <td>Don't fall for this institute. These people ar...</td>\n",
       "      <td>1</td>\n",
       "      <td>0.8270</td>\n",
       "      <td>1</td>\n",
       "      <td>0</td>\n",
       "    </tr>\n",
       "    <tr>\n",
       "      <th>373</th>\n",
       "      <td>sashank pappu</td>\n",
       "      <td>They just dump some content on us and say to l...</td>\n",
       "      <td>1</td>\n",
       "      <td>-0.9111</td>\n",
       "      <td>0</td>\n",
       "      <td>0</td>\n",
       "    </tr>\n",
       "    <tr>\n",
       "      <th>379</th>\n",
       "      <td>Sriram P.R</td>\n",
       "      <td>I had enrolled for pyspark with ML course. The...</td>\n",
       "      <td>1</td>\n",
       "      <td>-0.1761</td>\n",
       "      <td>0</td>\n",
       "      <td>0</td>\n",
       "    </tr>\n",
       "    <tr>\n",
       "      <th>393</th>\n",
       "      <td>Amar Agrawal</td>\n",
       "      <td>I haven't taken any course but wanted to try j...</td>\n",
       "      <td>1</td>\n",
       "      <td>0.9109</td>\n",
       "      <td>1</td>\n",
       "      <td>0</td>\n",
       "    </tr>\n",
       "    <tr>\n",
       "      <th>397</th>\n",
       "      <td>SURENDRA KUMAR SHARMA</td>\n",
       "      <td>The experience with the academy was worse, the...</td>\n",
       "      <td>1</td>\n",
       "      <td>-0.9224</td>\n",
       "      <td>0</td>\n",
       "      <td>0</td>\n",
       "    </tr>\n",
       "    <tr>\n",
       "      <th>413</th>\n",
       "      <td>Anuj Kulkarni</td>\n",
       "      <td>No job guarantee program also course content i...</td>\n",
       "      <td>2</td>\n",
       "      <td>-0.0258</td>\n",
       "      <td>0</td>\n",
       "      <td>0</td>\n",
       "    </tr>\n",
       "    <tr>\n",
       "      <th>418</th>\n",
       "      <td>devaraj devaraj</td>\n",
       "      <td>Hi Guys,, I want suggestion and guide on Data ...</td>\n",
       "      <td>1</td>\n",
       "      <td>0.7845</td>\n",
       "      <td>1</td>\n",
       "      <td>0</td>\n",
       "    </tr>\n",
       "    <tr>\n",
       "      <th>422</th>\n",
       "      <td>Kishore M</td>\n",
       "      <td>video content/material  is elementary level an...</td>\n",
       "      <td>1</td>\n",
       "      <td>0.2099</td>\n",
       "      <td>0</td>\n",
       "      <td>0</td>\n",
       "    </tr>\n",
       "    <tr>\n",
       "      <th>428</th>\n",
       "      <td>THE MAX</td>\n",
       "      <td>Useless place , just don't take any course fro...</td>\n",
       "      <td>1</td>\n",
       "      <td>-0.1531</td>\n",
       "      <td>0</td>\n",
       "      <td>0</td>\n",
       "    </tr>\n",
       "    <tr>\n",
       "      <th>430</th>\n",
       "      <td>Hari Krishna</td>\n",
       "      <td>I have never come across such pathetic institu...</td>\n",
       "      <td>1</td>\n",
       "      <td>0.0129</td>\n",
       "      <td>0</td>\n",
       "      <td>0</td>\n",
       "    </tr>\n",
       "    <tr>\n",
       "      <th>457</th>\n",
       "      <td>Saket Mishra</td>\n",
       "      <td>Bad environment for learning data science, no ...</td>\n",
       "      <td>1</td>\n",
       "      <td>-0.9062</td>\n",
       "      <td>0</td>\n",
       "      <td>0</td>\n",
       "    </tr>\n",
       "    <tr>\n",
       "      <th>460</th>\n",
       "      <td>Pradeep Shenoy</td>\n",
       "      <td>Experts in faking reviews of Google. Most of t...</td>\n",
       "      <td>1</td>\n",
       "      <td>-0.2960</td>\n",
       "      <td>0</td>\n",
       "      <td>0</td>\n",
       "    </tr>\n",
       "    <tr>\n",
       "      <th>464</th>\n",
       "      <td>akshay parekh</td>\n",
       "      <td>Worst academy. They are focusing on customers ...</td>\n",
       "      <td>1</td>\n",
       "      <td>-0.6249</td>\n",
       "      <td>0</td>\n",
       "      <td>0</td>\n",
       "    </tr>\n",
       "    <tr>\n",
       "      <th>466</th>\n",
       "      <td>Debopriya Mondal</td>\n",
       "      <td>Big frauds. They force everyone with false pro...</td>\n",
       "      <td>1</td>\n",
       "      <td>0.1796</td>\n",
       "      <td>0</td>\n",
       "      <td>0</td>\n",
       "    </tr>\n",
       "    <tr>\n",
       "      <th>468</th>\n",
       "      <td>Jayesh Kulkarni</td>\n",
       "      <td>In machine , statistics class taken by Manoj, ...</td>\n",
       "      <td>1</td>\n",
       "      <td>-0.6519</td>\n",
       "      <td>0</td>\n",
       "      <td>0</td>\n",
       "    </tr>\n",
       "    <tr>\n",
       "      <th>473</th>\n",
       "      <td>Sathvik K</td>\n",
       "      <td>Pathetic experience with Jigsaw experience.Not...</td>\n",
       "      <td>1</td>\n",
       "      <td>-0.4215</td>\n",
       "      <td>0</td>\n",
       "      <td>0</td>\n",
       "    </tr>\n",
       "    <tr>\n",
       "      <th>474</th>\n",
       "      <td>sanjoli gupta</td>\n",
       "      <td>They treat kids like mammals .. There is male ...</td>\n",
       "      <td>1</td>\n",
       "      <td>0.6590</td>\n",
       "      <td>1</td>\n",
       "      <td>0</td>\n",
       "    </tr>\n",
       "    <tr>\n",
       "      <th>476</th>\n",
       "      <td>Manisha Agrawal</td>\n",
       "      <td>Absolute liers and cheats...  Never fall for t...</td>\n",
       "      <td>1</td>\n",
       "      <td>-0.6705</td>\n",
       "      <td>0</td>\n",
       "      <td>0</td>\n",
       "    </tr>\n",
       "    <tr>\n",
       "      <th>490</th>\n",
       "      <td>tunga bhargavi</td>\n",
       "      <td>All 5 star ratings are fake reviews and there ...</td>\n",
       "      <td>1</td>\n",
       "      <td>-0.3662</td>\n",
       "      <td>0</td>\n",
       "      <td>0</td>\n",
       "    </tr>\n",
       "    <tr>\n",
       "      <th>498</th>\n",
       "      <td>Bhamidipati Lakshminarayana</td>\n",
       "      <td>Not good for experienced people. Placement ass...</td>\n",
       "      <td>2</td>\n",
       "      <td>-0.3412</td>\n",
       "      <td>0</td>\n",
       "      <td>0</td>\n",
       "    </tr>\n",
       "  </tbody>\n",
       "</table>\n",
       "</div>\n",
       "      <button class=\"colab-df-convert\" onclick=\"convertToInteractive('df-963a4940-0f33-4740-aa51-d0df18e8359f')\"\n",
       "              title=\"Convert this dataframe to an interactive table.\"\n",
       "              style=\"display:none;\">\n",
       "        \n",
       "  <svg xmlns=\"http://www.w3.org/2000/svg\" height=\"24px\"viewBox=\"0 0 24 24\"\n",
       "       width=\"24px\">\n",
       "    <path d=\"M0 0h24v24H0V0z\" fill=\"none\"/>\n",
       "    <path d=\"M18.56 5.44l.94 2.06.94-2.06 2.06-.94-2.06-.94-.94-2.06-.94 2.06-2.06.94zm-11 1L8.5 8.5l.94-2.06 2.06-.94-2.06-.94L8.5 2.5l-.94 2.06-2.06.94zm10 10l.94 2.06.94-2.06 2.06-.94-2.06-.94-.94-2.06-.94 2.06-2.06.94z\"/><path d=\"M17.41 7.96l-1.37-1.37c-.4-.4-.92-.59-1.43-.59-.52 0-1.04.2-1.43.59L10.3 9.45l-7.72 7.72c-.78.78-.78 2.05 0 2.83L4 21.41c.39.39.9.59 1.41.59.51 0 1.02-.2 1.41-.59l7.78-7.78 2.81-2.81c.8-.78.8-2.07 0-2.86zM5.41 20L4 18.59l7.72-7.72 1.47 1.35L5.41 20z\"/>\n",
       "  </svg>\n",
       "      </button>\n",
       "      \n",
       "  <style>\n",
       "    .colab-df-container {\n",
       "      display:flex;\n",
       "      flex-wrap:wrap;\n",
       "      gap: 12px;\n",
       "    }\n",
       "\n",
       "    .colab-df-convert {\n",
       "      background-color: #E8F0FE;\n",
       "      border: none;\n",
       "      border-radius: 50%;\n",
       "      cursor: pointer;\n",
       "      display: none;\n",
       "      fill: #1967D2;\n",
       "      height: 32px;\n",
       "      padding: 0 0 0 0;\n",
       "      width: 32px;\n",
       "    }\n",
       "\n",
       "    .colab-df-convert:hover {\n",
       "      background-color: #E2EBFA;\n",
       "      box-shadow: 0px 1px 2px rgba(60, 64, 67, 0.3), 0px 1px 3px 1px rgba(60, 64, 67, 0.15);\n",
       "      fill: #174EA6;\n",
       "    }\n",
       "\n",
       "    [theme=dark] .colab-df-convert {\n",
       "      background-color: #3B4455;\n",
       "      fill: #D2E3FC;\n",
       "    }\n",
       "\n",
       "    [theme=dark] .colab-df-convert:hover {\n",
       "      background-color: #434B5C;\n",
       "      box-shadow: 0px 1px 3px 1px rgba(0, 0, 0, 0.15);\n",
       "      filter: drop-shadow(0px 1px 2px rgba(0, 0, 0, 0.3));\n",
       "      fill: #FFFFFF;\n",
       "    }\n",
       "  </style>\n",
       "\n",
       "      <script>\n",
       "        const buttonEl =\n",
       "          document.querySelector('#df-963a4940-0f33-4740-aa51-d0df18e8359f button.colab-df-convert');\n",
       "        buttonEl.style.display =\n",
       "          google.colab.kernel.accessAllowed ? 'block' : 'none';\n",
       "\n",
       "        async function convertToInteractive(key) {\n",
       "          const element = document.querySelector('#df-963a4940-0f33-4740-aa51-d0df18e8359f');\n",
       "          const dataTable =\n",
       "            await google.colab.kernel.invokeFunction('convertToInteractive',\n",
       "                                                     [key], {});\n",
       "          if (!dataTable) return;\n",
       "\n",
       "          const docLinkHtml = 'Like what you see? Visit the ' +\n",
       "            '<a target=\"_blank\" href=https://colab.research.google.com/notebooks/data_table.ipynb>data table notebook</a>'\n",
       "            + ' to learn more about interactive tables.';\n",
       "          element.innerHTML = '';\n",
       "          dataTable['output_type'] = 'display_data';\n",
       "          await google.colab.output.renderOutput(dataTable, element);\n",
       "          const docLink = document.createElement('div');\n",
       "          docLink.innerHTML = docLinkHtml;\n",
       "          element.appendChild(docLink);\n",
       "        }\n",
       "      </script>\n",
       "    </div>\n",
       "  </div>\n",
       "  "
      ],
      "text/plain": [
       "                      author_title  \\\n",
       "28                  Karthik Sriram   \n",
       "63   GUNASEKARAN Kuppayee Sengodan   \n",
       "72                sathvik kullolli   \n",
       "82                 Ketan Chaudhari   \n",
       "138                 Snigdha Shukla   \n",
       "147                  Balakrishna G   \n",
       "211                        Priya P   \n",
       "268                  Chirag Suthar   \n",
       "289            saikumar rachamalla   \n",
       "291            Ravindra Singh Suri   \n",
       "312                   JERIL JOSEPH   \n",
       "323                     Vivek Yadu   \n",
       "325                   Ashish Anand   \n",
       "328                    Lohith Loki   \n",
       "342                  Anit Antonito   \n",
       "354               Avishek Adhikary   \n",
       "356                   PRATIK KUMAR   \n",
       "362                     saikat roy   \n",
       "364                 Jaspreet singh   \n",
       "373                  sashank pappu   \n",
       "379                     Sriram P.R   \n",
       "393                   Amar Agrawal   \n",
       "397          SURENDRA KUMAR SHARMA   \n",
       "413                  Anuj Kulkarni   \n",
       "418                devaraj devaraj   \n",
       "422                      Kishore M   \n",
       "428                        THE MAX   \n",
       "430                   Hari Krishna   \n",
       "457                   Saket Mishra   \n",
       "460                 Pradeep Shenoy   \n",
       "464                  akshay parekh   \n",
       "466               Debopriya Mondal   \n",
       "468                Jayesh Kulkarni   \n",
       "473                      Sathvik K   \n",
       "474                  sanjoli gupta   \n",
       "476                Manisha Agrawal   \n",
       "490                 tunga bhargavi   \n",
       "498    Bhamidipati Lakshminarayana   \n",
       "\n",
       "                                           review_text  review_rating  \\\n",
       "28   Big Looters . Poor quality training. I joined ...              1   \n",
       "63   First time enrolled into the Course. With the ...              2   \n",
       "72   Surely not worth the money.Go for some other i...              1   \n",
       "82   Bad experience with online training. After som...              1   \n",
       "138  Course content of good..but as far as placemen...              2   \n",
       "147  I don't find really worth doing it in Jigsaw, ...              1   \n",
       "211  My recent experience with Jigsaw has me comple...              1   \n",
       "268  Very poor service,along with me and my friends...              1   \n",
       "289  Hi, please give your sincere feedback regardin...              1   \n",
       "291  I am  a student of Jigsaw, Jig15051 is my ID.\\...              1   \n",
       "312  I wouldn't suggest jigsaw, infact i don't thin...              1   \n",
       "323  I have worst experience enrolling my self one ...              1   \n",
       "325  Worst education providers . Don't waste your m...              1   \n",
       "328  They are just another greedy institute, won't ...              1   \n",
       "342  Really expensive and courses are not worth of ...              1   \n",
       "354  My jigsaw id is Jig14258.......\\n\\nThis is ver...              1   \n",
       "356  These people are totally fake and all the comm...              1   \n",
       "362  this institute only good for study not good fo...              1   \n",
       "364  Don't fall for this institute. These people ar...              1   \n",
       "373  They just dump some content on us and say to l...              1   \n",
       "379  I had enrolled for pyspark with ML course. The...              1   \n",
       "393  I haven't taken any course but wanted to try j...              1   \n",
       "397  The experience with the academy was worse, the...              1   \n",
       "413  No job guarantee program also course content i...              2   \n",
       "418  Hi Guys,, I want suggestion and guide on Data ...              1   \n",
       "422  video content/material  is elementary level an...              1   \n",
       "428  Useless place , just don't take any course fro...              1   \n",
       "430  I have never come across such pathetic institu...              1   \n",
       "457  Bad environment for learning data science, no ...              1   \n",
       "460  Experts in faking reviews of Google. Most of t...              1   \n",
       "464  Worst academy. They are focusing on customers ...              1   \n",
       "466  Big frauds. They force everyone with false pro...              1   \n",
       "468  In machine , statistics class taken by Manoj, ...              1   \n",
       "473  Pathetic experience with Jigsaw experience.Not...              1   \n",
       "474  They treat kids like mammals .. There is male ...              1   \n",
       "476  Absolute liers and cheats...  Never fall for t...              1   \n",
       "490  All 5 star ratings are fake reviews and there ...              1   \n",
       "498  Not good for experienced people. Placement ass...              2   \n",
       "\n",
       "     VADER Polarity  predicted sentiment  actual sentiment  \n",
       "28           0.6714                    1                 0  \n",
       "63           0.9026                    1                 0  \n",
       "72           0.9048                    1                 0  \n",
       "82           0.8953                    1                 0  \n",
       "138         -0.4028                    0                 0  \n",
       "147          0.1636                    0                 0  \n",
       "211         -0.6724                    0                 0  \n",
       "268          0.6429                    1                 0  \n",
       "289          0.9556                    1                 0  \n",
       "291          0.9473                    1                 0  \n",
       "312          0.8087                    1                 0  \n",
       "323         -0.8540                    0                 0  \n",
       "325         -0.3025                    0                 0  \n",
       "328          0.9771                    1                 0  \n",
       "342         -0.6971                    0                 0  \n",
       "354          0.1163                    0                 0  \n",
       "356          0.8539                    1                 0  \n",
       "362          0.2023                    0                 0  \n",
       "364          0.8270                    1                 0  \n",
       "373         -0.9111                    0                 0  \n",
       "379         -0.1761                    0                 0  \n",
       "393          0.9109                    1                 0  \n",
       "397         -0.9224                    0                 0  \n",
       "413         -0.0258                    0                 0  \n",
       "418          0.7845                    1                 0  \n",
       "422          0.2099                    0                 0  \n",
       "428         -0.1531                    0                 0  \n",
       "430          0.0129                    0                 0  \n",
       "457         -0.9062                    0                 0  \n",
       "460         -0.2960                    0                 0  \n",
       "464         -0.6249                    0                 0  \n",
       "466          0.1796                    0                 0  \n",
       "468         -0.6519                    0                 0  \n",
       "473         -0.4215                    0                 0  \n",
       "474          0.6590                    1                 0  \n",
       "476         -0.6705                    0                 0  \n",
       "490         -0.3662                    0                 0  \n",
       "498         -0.3412                    0                 0  "
      ]
     },
     "execution_count": 51,
     "metadata": {},
     "output_type": "execute_result"
    }
   ],
   "source": [
    "df1[df1['review_rating']< 3]"
   ]
  },
  {
   "cell_type": "code",
   "execution_count": 88,
   "id": "7ua0-9ALeUas",
   "metadata": {
    "colab": {
     "base_uri": "https://localhost:8080/",
     "height": 105
    },
    "id": "7ua0-9ALeUas",
    "outputId": "86d0f95f-6fe4-4b90-87e7-866cf54a2911"
   },
   "outputs": [
    {
     "data": {
      "application/vnd.google.colaboratory.intrinsic+json": {
       "type": "string"
      },
      "text/plain": [
       "'Very poor service,along with me and my friends registered this course of more then 50k INR but not worth to join specially who want to know the in and out of big data and data science. There are other good training institute like Coursera, simplylearn would be better then this program style. I`d not recommend this course for fresher who simple need more package to switch their career to analytics, secondly its not worth joining for working professional who are expecting to freeze their course in  between as Jigsaw only gives self learning video once you are out of continuous session series out from your assign batch. The video access is not a life time, you have to pay for the videos once your course duration is expire, Be aware!'"
      ]
     },
     "execution_count": 88,
     "metadata": {},
     "output_type": "execute_result"
    }
   ],
   "source": [
    "example2 = df1[df1['review_rating']< 3].iloc[7]['review_text']\n",
    "example2"
   ]
  },
  {
   "cell_type": "code",
   "execution_count": 89,
   "id": "gAvOCqAYeoDW",
   "metadata": {
    "colab": {
     "base_uri": "https://localhost:8080/"
    },
    "id": "gAvOCqAYeoDW",
    "outputId": "5f34a383-77c9-4f1c-8972-5656441bc524"
   },
   "outputs": [
    {
     "data": {
      "text/plain": [
       "0.6429"
      ]
     },
     "execution_count": 89,
     "metadata": {},
     "output_type": "execute_result"
    }
   ],
   "source": [
    "sia.polarity_scores(example2)['compound']"
   ]
  },
  {
   "cell_type": "markdown",
   "id": "dee34528",
   "metadata": {
    "id": "dee34528"
   },
   "source": [
    "<font color = olive>**Observation**: \n",
    "- So from the dataframe we can see that the predictions are not that accurate. As the VADER take each word individually and then score each word saperately and then compound all the scores and gives the overall compound score. \n",
    "- As a result it gets confused with the long reviews. \n",
    "- So basically VADER cannot understand the context of the text hence, scoring is not that accurate. Ultimately, the classifaction of negative and positive review is poor.\n",
    "- Therefore for the example2 in the above cell even though the score review is actually negative we are getting the compound score of 0.62 which represents positive score.\n",
    "- So we shall use some other powerful model which can understand context of the text.    "
   ]
  },
  {
   "cell_type": "markdown",
   "id": "dacc80bf",
   "metadata": {
    "id": "dacc80bf"
   },
   "source": [
    "### <font color = maroon > Roberta Pretrained model (Deep Learning Model Transfer Learning)\n",
    "- "
   ]
  },
  {
   "cell_type": "code",
   "execution_count": 54,
   "id": "R_OuSZc9cZP0",
   "metadata": {
    "colab": {
     "base_uri": "https://localhost:8080/"
    },
    "id": "R_OuSZc9cZP0",
    "outputId": "e7d397c7-64d7-4cc3-bc32-b41d3c759c4f"
   },
   "outputs": [
    {
     "name": "stdout",
     "output_type": "stream",
     "text": [
      "Looking in indexes: https://pypi.org/simple, https://us-python.pkg.dev/colab-wheels/public/simple/\n",
      "Collecting transformers\n",
      "  Downloading transformers-4.20.1-py3-none-any.whl (4.4 MB)\n",
      "\u001b[K     |████████████████████████████████| 4.4 MB 5.3 MB/s \n",
      "\u001b[?25hRequirement already satisfied: regex!=2019.12.17 in /usr/local/lib/python3.7/dist-packages (from transformers) (2022.6.2)\n",
      "Requirement already satisfied: packaging>=20.0 in /usr/local/lib/python3.7/dist-packages (from transformers) (21.3)\n",
      "Requirement already satisfied: filelock in /usr/local/lib/python3.7/dist-packages (from transformers) (3.7.1)\n",
      "Requirement already satisfied: importlib-metadata in /usr/local/lib/python3.7/dist-packages (from transformers) (4.11.4)\n",
      "Requirement already satisfied: tqdm>=4.27 in /usr/local/lib/python3.7/dist-packages (from transformers) (4.64.0)\n",
      "Collecting pyyaml>=5.1\n",
      "  Downloading PyYAML-6.0-cp37-cp37m-manylinux_2_5_x86_64.manylinux1_x86_64.manylinux_2_12_x86_64.manylinux2010_x86_64.whl (596 kB)\n",
      "\u001b[K     |████████████████████████████████| 596 kB 52.0 MB/s \n",
      "\u001b[?25hRequirement already satisfied: requests in /usr/local/lib/python3.7/dist-packages (from transformers) (2.23.0)\n",
      "Collecting tokenizers!=0.11.3,<0.13,>=0.11.1\n",
      "  Downloading tokenizers-0.12.1-cp37-cp37m-manylinux_2_12_x86_64.manylinux2010_x86_64.whl (6.6 MB)\n",
      "\u001b[K     |████████████████████████████████| 6.6 MB 54.6 MB/s \n",
      "\u001b[?25hCollecting huggingface-hub<1.0,>=0.1.0\n",
      "  Downloading huggingface_hub-0.8.1-py3-none-any.whl (101 kB)\n",
      "\u001b[K     |████████████████████████████████| 101 kB 12.2 MB/s \n",
      "\u001b[?25hRequirement already satisfied: numpy>=1.17 in /usr/local/lib/python3.7/dist-packages (from transformers) (1.21.6)\n",
      "Requirement already satisfied: typing-extensions>=3.7.4.3 in /usr/local/lib/python3.7/dist-packages (from huggingface-hub<1.0,>=0.1.0->transformers) (4.1.1)\n",
      "Requirement already satisfied: pyparsing!=3.0.5,>=2.0.2 in /usr/local/lib/python3.7/dist-packages (from packaging>=20.0->transformers) (3.0.9)\n",
      "Requirement already satisfied: zipp>=0.5 in /usr/local/lib/python3.7/dist-packages (from importlib-metadata->transformers) (3.8.0)\n",
      "Requirement already satisfied: idna<3,>=2.5 in /usr/local/lib/python3.7/dist-packages (from requests->transformers) (2.10)\n",
      "Requirement already satisfied: urllib3!=1.25.0,!=1.25.1,<1.26,>=1.21.1 in /usr/local/lib/python3.7/dist-packages (from requests->transformers) (1.24.3)\n",
      "Requirement already satisfied: certifi>=2017.4.17 in /usr/local/lib/python3.7/dist-packages (from requests->transformers) (2022.6.15)\n",
      "Requirement already satisfied: chardet<4,>=3.0.2 in /usr/local/lib/python3.7/dist-packages (from requests->transformers) (3.0.4)\n",
      "Installing collected packages: pyyaml, tokenizers, huggingface-hub, transformers\n",
      "  Attempting uninstall: pyyaml\n",
      "    Found existing installation: PyYAML 3.13\n",
      "    Uninstalling PyYAML-3.13:\n",
      "      Successfully uninstalled PyYAML-3.13\n",
      "Successfully installed huggingface-hub-0.8.1 pyyaml-6.0 tokenizers-0.12.1 transformers-4.20.1\n"
     ]
    }
   ],
   "source": [
    "! pip install transformers"
   ]
  },
  {
   "cell_type": "code",
   "execution_count": 90,
   "id": "XQijEXN4bqwT",
   "metadata": {
    "id": "XQijEXN4bqwT"
   },
   "outputs": [],
   "source": [
    "from transformers import AutoTokenizer\n",
    "from transformers import AutoModelForSequenceClassification\n",
    "from scipy.special import softmax"
   ]
  },
  {
   "cell_type": "code",
   "execution_count": 91,
   "id": "ZSk1SwIbctWh",
   "metadata": {
    "id": "ZSk1SwIbctWh"
   },
   "outputs": [],
   "source": [
    "# Loading pretrained model\n",
    "MODEL = f'cardiffnlp/twitter-roberta-base-sentiment'\n",
    "tokenizer = AutoTokenizer.from_pretrained(MODEL)\n",
    "model = AutoModelForSequenceClassification.from_pretrained(MODEL)"
   ]
  },
  {
   "cell_type": "code",
   "execution_count": 92,
   "id": "E3Y4ZvicdsDX",
   "metadata": {
    "colab": {
     "base_uri": "https://localhost:8080/"
    },
    "id": "E3Y4ZvicdsDX",
    "outputId": "008f4a14-2aed-402a-9313-780f41885162"
   },
   "outputs": [
    {
     "name": "stdout",
     "output_type": "stream",
     "text": [
      "VADER score\n",
      "Very poor service,along with me and my friends registered this course of more then 50k INR but not worth to join specially who want to know the in and out of big data and data science. There are other good training institute like Coursera, simplylearn would be better then this program style. I`d not recommend this course for fresher who simple need more package to switch their career to analytics, secondly its not worth joining for working professional who are expecting to freeze their course in  between as Jigsaw only gives self learning video once you are out of continuous session series out from your assign batch. The video access is not a life time, you have to pay for the videos once your course duration is expire, Be aware!\n"
     ]
    },
    {
     "data": {
      "text/plain": [
       "0.6429"
      ]
     },
     "execution_count": 92,
     "metadata": {},
     "output_type": "execute_result"
    }
   ],
   "source": [
    "print('VADER score')\n",
    "print(example2)\n",
    "sia.polarity_scores(example2)['compound']"
   ]
  },
  {
   "cell_type": "markdown",
   "id": "H2AGs0irfxJD",
   "metadata": {
    "id": "H2AGs0irfxJD"
   },
   "source": [
    "### <font color = maroon > Lets see what is the score for teh same review by roberta model."
   ]
  },
  {
   "cell_type": "code",
   "execution_count": 140,
   "id": "EM15stJMfgsD",
   "metadata": {
    "colab": {
     "base_uri": "https://localhost:8080/"
    },
    "id": "EM15stJMfgsD",
    "outputId": "608cf2d9-9440-4042-e488-cbc676e03015"
   },
   "outputs": [
    {
     "data": {
      "text/plain": [
       "array([0.00152433, 0.01757272, 0.980903  ], dtype=float32)"
      ]
     },
     "execution_count": 140,
     "metadata": {},
     "output_type": "execute_result"
    }
   ],
   "source": [
    "# Run roberta model\n",
    "encoded_text = tokenizer(t, return_tensors = 'pt')\n",
    "output = model(**encoded_text)\n",
    "scores = output[0][0].detach().numpy()\n",
    "scores = softmax(scores)\n",
    "scores"
   ]
  },
  {
   "cell_type": "code",
   "execution_count": 152,
   "id": "7vh60PTA0TYp",
   "metadata": {
    "id": "7vh60PTA0TYp"
   },
   "outputs": [],
   "source": [
    "import operator\n",
    "def func(ex):\n",
    "    encoded_text = tokenizer(ex, return_tensors = 'pt')\n",
    "    output = model(**encoded_text)\n",
    "    scores = output[0][0].detach().numpy()\n",
    "    scores = softmax(scores)\n",
    "    scores\n",
    "    scores_dict = {\n",
    "            'roberta_neg': scores[0],\n",
    "            'roberta_neu': scores[1],\n",
    "            'roberts_pos': scores[2]\n",
    "        }\n",
    "    val = max(scores_dict.items(), key = operator.itemgetter(1))[0]   \n",
    "    return val"
   ]
  },
  {
   "cell_type": "markdown",
   "id": "yd2Ok5y7lrHX",
   "metadata": {
    "id": "yd2Ok5y7lrHX"
   },
   "source": [
    "<font color = olive>**Observation**: So this pretrained model is performing better than the VADER. However, any model has limitations. Same is with Roberta model even though it is able to understand the context it cannot be fullproof. For some reviews especially for the long reviews there might be chunks of positive, neutral, or negative reviews. So there any model cannot perform good. But for the medium review or small review or where the entire revive is same sentiment this model can perform better than VADER."
   ]
  },
  {
   "cell_type": "code",
   "execution_count": 106,
   "id": "EregchAxrt0m",
   "metadata": {
    "id": "EregchAxrt0m"
   },
   "outputs": [],
   "source": [
    "df2 = df1.copy()"
   ]
  },
  {
   "cell_type": "code",
   "execution_count": 129,
   "id": "YpN9Y-yvt_yD",
   "metadata": {
    "id": "YpN9Y-yvt_yD"
   },
   "outputs": [],
   "source": [
    "t = df2['review_text'][:5][1]"
   ]
  },
  {
   "cell_type": "code",
   "execution_count": 172,
   "id": "2gEblTdY3y45",
   "metadata": {
    "colab": {
     "base_uri": "https://localhost:8080/"
    },
    "id": "2gEblTdY3y45",
    "outputId": "a09cd3ed-1b4b-45a3-a8da-61ecaf7b37d0"
   },
   "outputs": [
    {
     "name": "stdout",
     "output_type": "stream",
     "text": [
      "it did not worked for text at position 17\n",
      "it did not worked for text at position 38\n",
      "it did not worked for text at position 67\n",
      "it did not worked for text at position 135\n",
      "it did not worked for text at position 253\n",
      "it did not worked for text at position 256\n"
     ]
    }
   ],
   "source": [
    "out = []\n",
    "for n, text in enumerate(df2['review_text']):\n",
    "    try:\n",
    "        out.append(func(text))\n",
    "        \n",
    "    except RuntimeError:\n",
    "        out.append(np.nan)\n",
    "        print('it did not worked for text at position', n)"
   ]
  },
  {
   "cell_type": "code",
   "execution_count": 179,
   "id": "vHnd27xE7iSU",
   "metadata": {
    "id": "vHnd27xE7iSU"
   },
   "outputs": [],
   "source": [
    "out = pd.Series(out)"
   ]
  },
  {
   "cell_type": "code",
   "execution_count": 182,
   "id": "26ZF5SIC7Nc2",
   "metadata": {
    "id": "26ZF5SIC7Nc2"
   },
   "outputs": [],
   "source": [
    "# replacing positive and neutral with 1 and negative with 0\n",
    "roberta_pred = out.replace({'roberts_pos': 1, 'roberta_neu': 1, 'roberta_neg': 0})"
   ]
  },
  {
   "cell_type": "code",
   "execution_count": 184,
   "id": "bJV-k3xM8Rzn",
   "metadata": {
    "id": "bJV-k3xM8Rzn"
   },
   "outputs": [],
   "source": [
    "df2['Roberta_prediction'] = roberta_pred"
   ]
  },
  {
   "cell_type": "code",
   "execution_count": 185,
   "id": "1MLx3PPC8YTW",
   "metadata": {
    "colab": {
     "base_uri": "https://localhost:8080/",
     "height": 206
    },
    "id": "1MLx3PPC8YTW",
    "outputId": "434fad19-9a90-455e-99a6-cbb8fbc1542b"
   },
   "outputs": [
    {
     "data": {
      "text/html": [
       "\n",
       "  <div id=\"df-0114d2b7-f717-4859-b959-b03d385f5235\">\n",
       "    <div class=\"colab-df-container\">\n",
       "      <div>\n",
       "<style scoped>\n",
       "    .dataframe tbody tr th:only-of-type {\n",
       "        vertical-align: middle;\n",
       "    }\n",
       "\n",
       "    .dataframe tbody tr th {\n",
       "        vertical-align: top;\n",
       "    }\n",
       "\n",
       "    .dataframe thead th {\n",
       "        text-align: right;\n",
       "    }\n",
       "</style>\n",
       "<table border=\"1\" class=\"dataframe\">\n",
       "  <thead>\n",
       "    <tr style=\"text-align: right;\">\n",
       "      <th></th>\n",
       "      <th>author_title</th>\n",
       "      <th>review_text</th>\n",
       "      <th>review_rating</th>\n",
       "      <th>VADER Polarity</th>\n",
       "      <th>predicted sentiment</th>\n",
       "      <th>actual sentiment</th>\n",
       "      <th>Roberta_prediction</th>\n",
       "    </tr>\n",
       "  </thead>\n",
       "  <tbody>\n",
       "    <tr>\n",
       "      <th>0</th>\n",
       "      <td>Mintu Jakhar</td>\n",
       "      <td>I usually check reviews before making the deci...</td>\n",
       "      <td>4</td>\n",
       "      <td>0.9871</td>\n",
       "      <td>1</td>\n",
       "      <td>1</td>\n",
       "      <td>1.0</td>\n",
       "    </tr>\n",
       "    <tr>\n",
       "      <th>1</th>\n",
       "      <td>Shreyasi Mahurkar</td>\n",
       "      <td>I was enrolled in Integrated Program in Busine...</td>\n",
       "      <td>5</td>\n",
       "      <td>0.9851</td>\n",
       "      <td>1</td>\n",
       "      <td>1</td>\n",
       "      <td>1.0</td>\n",
       "    </tr>\n",
       "    <tr>\n",
       "      <th>2</th>\n",
       "      <td>Revathy P</td>\n",
       "      <td>I did a Data Analytics program from Jigsaw, re...</td>\n",
       "      <td>5</td>\n",
       "      <td>0.9272</td>\n",
       "      <td>1</td>\n",
       "      <td>1</td>\n",
       "      <td>1.0</td>\n",
       "    </tr>\n",
       "    <tr>\n",
       "      <th>3</th>\n",
       "      <td>Shaik Ahmed</td>\n",
       "      <td>I found the Business Analytics course very int...</td>\n",
       "      <td>5</td>\n",
       "      <td>0.9500</td>\n",
       "      <td>1</td>\n",
       "      <td>1</td>\n",
       "      <td>1.0</td>\n",
       "    </tr>\n",
       "    <tr>\n",
       "      <th>4</th>\n",
       "      <td>Kartik Jain</td>\n",
       "      <td>Hi All,\\n\\nI've been part of the IPBA batch (B...</td>\n",
       "      <td>5</td>\n",
       "      <td>0.9819</td>\n",
       "      <td>1</td>\n",
       "      <td>1</td>\n",
       "      <td>1.0</td>\n",
       "    </tr>\n",
       "  </tbody>\n",
       "</table>\n",
       "</div>\n",
       "      <button class=\"colab-df-convert\" onclick=\"convertToInteractive('df-0114d2b7-f717-4859-b959-b03d385f5235')\"\n",
       "              title=\"Convert this dataframe to an interactive table.\"\n",
       "              style=\"display:none;\">\n",
       "        \n",
       "  <svg xmlns=\"http://www.w3.org/2000/svg\" height=\"24px\"viewBox=\"0 0 24 24\"\n",
       "       width=\"24px\">\n",
       "    <path d=\"M0 0h24v24H0V0z\" fill=\"none\"/>\n",
       "    <path d=\"M18.56 5.44l.94 2.06.94-2.06 2.06-.94-2.06-.94-.94-2.06-.94 2.06-2.06.94zm-11 1L8.5 8.5l.94-2.06 2.06-.94-2.06-.94L8.5 2.5l-.94 2.06-2.06.94zm10 10l.94 2.06.94-2.06 2.06-.94-2.06-.94-.94-2.06-.94 2.06-2.06.94z\"/><path d=\"M17.41 7.96l-1.37-1.37c-.4-.4-.92-.59-1.43-.59-.52 0-1.04.2-1.43.59L10.3 9.45l-7.72 7.72c-.78.78-.78 2.05 0 2.83L4 21.41c.39.39.9.59 1.41.59.51 0 1.02-.2 1.41-.59l7.78-7.78 2.81-2.81c.8-.78.8-2.07 0-2.86zM5.41 20L4 18.59l7.72-7.72 1.47 1.35L5.41 20z\"/>\n",
       "  </svg>\n",
       "      </button>\n",
       "      \n",
       "  <style>\n",
       "    .colab-df-container {\n",
       "      display:flex;\n",
       "      flex-wrap:wrap;\n",
       "      gap: 12px;\n",
       "    }\n",
       "\n",
       "    .colab-df-convert {\n",
       "      background-color: #E8F0FE;\n",
       "      border: none;\n",
       "      border-radius: 50%;\n",
       "      cursor: pointer;\n",
       "      display: none;\n",
       "      fill: #1967D2;\n",
       "      height: 32px;\n",
       "      padding: 0 0 0 0;\n",
       "      width: 32px;\n",
       "    }\n",
       "\n",
       "    .colab-df-convert:hover {\n",
       "      background-color: #E2EBFA;\n",
       "      box-shadow: 0px 1px 2px rgba(60, 64, 67, 0.3), 0px 1px 3px 1px rgba(60, 64, 67, 0.15);\n",
       "      fill: #174EA6;\n",
       "    }\n",
       "\n",
       "    [theme=dark] .colab-df-convert {\n",
       "      background-color: #3B4455;\n",
       "      fill: #D2E3FC;\n",
       "    }\n",
       "\n",
       "    [theme=dark] .colab-df-convert:hover {\n",
       "      background-color: #434B5C;\n",
       "      box-shadow: 0px 1px 3px 1px rgba(0, 0, 0, 0.15);\n",
       "      filter: drop-shadow(0px 1px 2px rgba(0, 0, 0, 0.3));\n",
       "      fill: #FFFFFF;\n",
       "    }\n",
       "  </style>\n",
       "\n",
       "      <script>\n",
       "        const buttonEl =\n",
       "          document.querySelector('#df-0114d2b7-f717-4859-b959-b03d385f5235 button.colab-df-convert');\n",
       "        buttonEl.style.display =\n",
       "          google.colab.kernel.accessAllowed ? 'block' : 'none';\n",
       "\n",
       "        async function convertToInteractive(key) {\n",
       "          const element = document.querySelector('#df-0114d2b7-f717-4859-b959-b03d385f5235');\n",
       "          const dataTable =\n",
       "            await google.colab.kernel.invokeFunction('convertToInteractive',\n",
       "                                                     [key], {});\n",
       "          if (!dataTable) return;\n",
       "\n",
       "          const docLinkHtml = 'Like what you see? Visit the ' +\n",
       "            '<a target=\"_blank\" href=https://colab.research.google.com/notebooks/data_table.ipynb>data table notebook</a>'\n",
       "            + ' to learn more about interactive tables.';\n",
       "          element.innerHTML = '';\n",
       "          dataTable['output_type'] = 'display_data';\n",
       "          await google.colab.output.renderOutput(dataTable, element);\n",
       "          const docLink = document.createElement('div');\n",
       "          docLink.innerHTML = docLinkHtml;\n",
       "          element.appendChild(docLink);\n",
       "        }\n",
       "      </script>\n",
       "    </div>\n",
       "  </div>\n",
       "  "
      ],
      "text/plain": [
       "        author_title                                        review_text  \\\n",
       "0       Mintu Jakhar  I usually check reviews before making the deci...   \n",
       "1  Shreyasi Mahurkar  I was enrolled in Integrated Program in Busine...   \n",
       "2          Revathy P  I did a Data Analytics program from Jigsaw, re...   \n",
       "3        Shaik Ahmed  I found the Business Analytics course very int...   \n",
       "4        Kartik Jain  Hi All,\\n\\nI've been part of the IPBA batch (B...   \n",
       "\n",
       "   review_rating  VADER Polarity  predicted sentiment  actual sentiment  \\\n",
       "0              4          0.9871                    1                 1   \n",
       "1              5          0.9851                    1                 1   \n",
       "2              5          0.9272                    1                 1   \n",
       "3              5          0.9500                    1                 1   \n",
       "4              5          0.9819                    1                 1   \n",
       "\n",
       "   Roberta_prediction  \n",
       "0                 1.0  \n",
       "1                 1.0  \n",
       "2                 1.0  \n",
       "3                 1.0  \n",
       "4                 1.0  "
      ]
     },
     "execution_count": 185,
     "metadata": {},
     "output_type": "execute_result"
    }
   ],
   "source": [
    "df2.head()"
   ]
  },
  {
   "cell_type": "markdown",
   "id": "KuvaCoVi76ib",
   "metadata": {
    "id": "KuvaCoVi76ib"
   },
   "source": [
    "### <font color = maroon > Evaluation of Roberta"
   ]
  },
  {
   "cell_type": "code",
   "execution_count": 203,
   "id": "YjhE7-T67x_t",
   "metadata": {
    "id": "YjhE7-T67x_t"
   },
   "outputs": [],
   "source": [
    "# Creating mew DataFrame without null values\n",
    "df3 = df2.dropna(axis = 0)"
   ]
  },
  {
   "cell_type": "code",
   "execution_count": 205,
   "id": "ozPEVrYN-QNY",
   "metadata": {
    "colab": {
     "base_uri": "https://localhost:8080/"
    },
    "id": "ozPEVrYN-QNY",
    "outputId": "1f1f5876-c8e8-451a-92ee-4d52dd91048d"
   },
   "outputs": [
    {
     "data": {
      "text/plain": [
       "author_title           0\n",
       "review_text            0\n",
       "review_rating          0\n",
       "VADER Polarity         0\n",
       "predicted sentiment    0\n",
       "actual sentiment       0\n",
       "Roberta_prediction     0\n",
       "dtype: int64"
      ]
     },
     "execution_count": 205,
     "metadata": {},
     "output_type": "execute_result"
    }
   ],
   "source": [
    "df3.isnull().sum()"
   ]
  },
  {
   "cell_type": "code",
   "execution_count": 206,
   "id": "WXTSm8qM99tO",
   "metadata": {
    "colab": {
     "base_uri": "https://localhost:8080/"
    },
    "id": "WXTSm8qM99tO",
    "outputId": "718d82bc-f396-4613-b092-cd9b4e671e90"
   },
   "outputs": [
    {
     "name": "stdout",
     "output_type": "stream",
     "text": [
      "              precision    recall  f1-score   support\n",
      "\n",
      "           0       0.89      0.82      0.85        38\n",
      "           1       0.98      0.99      0.99       456\n",
      "\n",
      "    accuracy                           0.98       494\n",
      "   macro avg       0.94      0.90      0.92       494\n",
      "weighted avg       0.98      0.98      0.98       494\n",
      "\n"
     ]
    }
   ],
   "source": [
    "print(classification_report(df3['actual sentiment'], df3['Roberta_prediction']))"
   ]
  },
  {
   "cell_type": "markdown",
   "id": "TBr-Oe9t-zkr",
   "metadata": {
    "id": "TBr-Oe9t-zkr"
   },
   "source": [
    "<font color = olive>**Observation**: \n",
    "- Now we can see that Roberta model is able to capture and classify negative sentiments and positive sentiments more precisely.\n",
    "- Here the overall accuracy is 98% which is more than VADER model.\n",
    "- Also it is able to classify both positive and negative review better than the VADER model.\n",
    "- So we can use this model.   "
   ]
  }
 ],
 "metadata": {
  "colab": {
   "collapsed_sections": [],
   "name": "Capsone project.ipynb",
   "provenance": []
  },
  "kernelspec": {
   "display_name": "Python 3",
   "language": "python",
   "name": "python3"
  },
  "language_info": {
   "codemirror_mode": {
    "name": "ipython",
    "version": 3
   },
   "file_extension": ".py",
   "mimetype": "text/x-python",
   "name": "python",
   "nbconvert_exporter": "python",
   "pygments_lexer": "ipython3",
   "version": "3.8.8"
  }
 },
 "nbformat": 4,
 "nbformat_minor": 5
}
